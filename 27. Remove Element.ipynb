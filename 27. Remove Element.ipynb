{
 "cells": [
  {
   "cell_type": "markdown",
   "metadata": {},
   "source": [
    "## 27. Remove Element\n",
    "\n",
    "Given an integer array nums and an integer val, remove all occurrences of val in nums in-place. The relative order of the elements may be changed.\n",
    "\n",
    "Since it is impossible to change the length of the array in some languages, you must instead have the result be placed in the first part of the array nums. More formally, if there are k elements after removing the duplicates, then the first k elements of nums should hold the final result. It does not matter what you leave beyond the first k elements.\n",
    "\n",
    "Return k after placing the final result in the first k slots of nums.\n",
    "\n",
    "Do not allocate extra space for another array. You must do this by modifying the input array in-place with O(1) extra memory.\n",
    "\n",
    "\n",
    "Example 1:\n",
    "\n",
    "Input: nums = [3,2,2,3], val = 3\n",
    "\n",
    "Output: 2, nums = [2,2,_,_]\n",
    "\n",
    "Explanation: Your function should return k = 2, with the first two elements of nums being 2.\n",
    "It does not matter what you leave beyond the returned k (hence they are underscores)."
   ]
  },
  {
   "cell_type": "code",
   "execution_count": 7,
   "metadata": {},
   "outputs": [],
   "source": [
    "nums = [1,3,2,2,3]\n",
    "val = 3\n",
    "class Solution(object):\n",
    "    def removeElement(self, nums, val):\n",
    "        k = 0\n",
    "        \n",
    "        if nums >= 1:\n",
    "            return nums\n",
    "        \n",
    "        for i in range(len(nums)):\n",
    "            if nums[i] != val:\n",
    "                nums[k] = nums[i]\n",
    "                k += 1\n",
    "        print(nums)\n",
    "#         return k"
   ]
  },
  {
   "cell_type": "code",
   "execution_count": 16,
   "metadata": {},
   "outputs": [
    {
     "name": "stdout",
     "output_type": "stream",
     "text": [
      "[1, 2, 2, 2, 3]\n"
     ]
    }
   ],
   "source": [
    "nums = [1,3,2,2,3]\n",
    "val = 3\n",
    "def removeElement(nums, val):\n",
    "    k = 0\n",
    "        \n",
    "#     if nums(len) >= 1:\n",
    "#         return nums\n",
    "        \n",
    "    for i in range(len(nums)):\n",
    "        if nums[i] != val:\n",
    "            nums[k] = nums[i]\n",
    "            k += 1\n",
    "#     print(nums)\n",
    "#         return k\n",
    "removeElement(nums,val)\n",
    "print(nums)"
   ]
  },
  {
   "cell_type": "code",
   "execution_count": null,
   "metadata": {},
   "outputs": [],
   "source": []
  },
  {
   "cell_type": "code",
   "execution_count": null,
   "metadata": {},
   "outputs": [],
   "source": []
  }
 ],
 "metadata": {
  "kernelspec": {
   "display_name": "Python 3",
   "language": "python",
   "name": "python3"
  },
  "language_info": {
   "codemirror_mode": {
    "name": "ipython",
    "version": 3
   },
   "file_extension": ".py",
   "mimetype": "text/x-python",
   "name": "python",
   "nbconvert_exporter": "python",
   "pygments_lexer": "ipython3",
   "version": "3.7.6"
  }
 },
 "nbformat": 4,
 "nbformat_minor": 4
}
