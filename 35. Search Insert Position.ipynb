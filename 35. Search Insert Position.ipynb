{
 "cells": [
  {
   "cell_type": "markdown",
   "metadata": {},
   "source": [
    "## 35. Search Insert Position\n",
    "\n",
    "Given a sorted array of distinct integers and a target value, return the index if the target is found. If not, return the index where it would be if it were inserted in order.\n",
    "\n",
    "You must write an algorithm with O(log n) runtime complexity.\n",
    "\n",
    "Example 1:\n",
    "\n",
    "Input: nums = [1,3,5,6], target = 5\n",
    "\n",
    "Output: 2"
   ]
  },
  {
   "cell_type": "code",
   "execution_count": 4,
   "metadata": {},
   "outputs": [],
   "source": [
    "nums = [1,3,5,6]\n",
    "target = 5\n",
    "\n",
    "class Solution(object):\n",
    "    def searchInsert(self, nums, target):\n",
    "        l,r = 0, len(nums)-1\n",
    "        \n",
    "        while l <= r:\n",
    "            mid(l + r) // 2\n",
    "            \n",
    "            if target == nums[mid]:\n",
    "                return mid\n",
    "            \n",
    "            if target > nums[mid]:\n",
    "                l = mid + 1\n",
    "                \n",
    "            else:\n",
    "                r = mid + 1\n",
    "                \n",
    "        return l\n",
    "            \n",
    "        # if target in nums:\n",
    "        #     return nums.index(target)\n",
    "        # else:\n",
    "        #     for num in nums:\n",
    "        #         if target < num:\n",
    "        #             return nums.index(num)\n",
    "        #     return len(nums)"
   ]
  },
  {
   "cell_type": "code",
   "execution_count": null,
   "metadata": {},
   "outputs": [],
   "source": []
  }
 ],
 "metadata": {
  "kernelspec": {
   "display_name": "Python 3",
   "language": "python",
   "name": "python3"
  },
  "language_info": {
   "codemirror_mode": {
    "name": "ipython",
    "version": 3
   },
   "file_extension": ".py",
   "mimetype": "text/x-python",
   "name": "python",
   "nbconvert_exporter": "python",
   "pygments_lexer": "ipython3",
   "version": "3.7.6"
  }
 },
 "nbformat": 4,
 "nbformat_minor": 4
}
